{
  "cells": [
    {
      "cell_type": "markdown",
      "metadata": {
        "id": "Fo-inPG4b80s"
      },
      "source": [
        "# **Data analysis project: E-Commerce**\n",
        "\n",
        "**Public Dataset**\n",
        "- **Nama:** Normatul Uyun\n",
        "- **Email:** M200B4KX3396@bangkit.academy\n",
        "- **ID Dicoding:** normatuluyun"
      ]
    },
    {
      "cell_type": "markdown",
      "source": [
        "## **Bussines Question**"
      ],
      "metadata": {
        "id": "C8R0P3N-k_LU"
      }
    },
    {
      "cell_type": "markdown",
      "metadata": {
        "id": "B_WQd6Jtb_Ew"
      },
      "source": [
        "- Bussines Question 1: How does the return rate relate to the total number of orders? Is there a significant correlation between these two factors?\n",
        "- Bussines Question 2: Which city has the most total sales volume?"
      ]
    },
    {
      "cell_type": "markdown",
      "metadata": {
        "id": "G9oN24rWfW36"
      },
      "source": [
        "##Import Data & Library"
      ]
    },
    {
      "cell_type": "code",
      "source": [
        "import pandas as pd\n",
        "import numpy as np\n",
        "import matplotlib.pyplot as plt\n",
        "import seaborn as sns\n",
        "from scipy import stats"
      ],
      "metadata": {
        "id": "jhCOMsommtze"
      },
      "execution_count": null,
      "outputs": []
    },
    {
      "cell_type": "markdown",
      "source": [
        "##Data Wrangling"
      ],
      "metadata": {
        "id": "pX8MqJjhlUrE"
      }
    },
    {
      "cell_type": "markdown",
      "metadata": {
        "id": "gC9UUIZYfffL"
      },
      "source": [
        "###Data Gathering"
      ]
    },
    {
      "cell_type": "code",
      "execution_count": null,
      "metadata": {
        "colab": {
          "base_uri": "https://localhost:8080/"
        },
        "id": "ChsHCg-MfiCJ",
        "outputId": "65dea5f1-1eb1-464e-b76e-8189d9897e5b"
      },
      "outputs": [
        {
          "output_type": "stream",
          "name": "stdout",
          "text": [
            "                           order_id                        product_id  \\\n",
            "0  00010242fe8c5a6d1ba2dd792cb16214  4244733e06e7ecb4970a6e2683c13e61   \n",
            "1  130898c0987d1801452a8ed92a670612  4244733e06e7ecb4970a6e2683c13e61   \n",
            "2  532ed5e14e24ae1f0d735b91524b98b9  4244733e06e7ecb4970a6e2683c13e61   \n",
            "3  6f8c31653edb8c83e1a739408b5ff750  4244733e06e7ecb4970a6e2683c13e61   \n",
            "4  7d19f4ef4d04461989632411b7e588b9  4244733e06e7ecb4970a6e2683c13e61   \n",
            "\n",
            "                          seller_id product_category_name  review_score  \n",
            "0  48436dade18ac8b2bce089ec2a041202            cool_stuff             5  \n",
            "1  48436dade18ac8b2bce089ec2a041202            cool_stuff             5  \n",
            "2  48436dade18ac8b2bce089ec2a041202            cool_stuff             4  \n",
            "3  48436dade18ac8b2bce089ec2a041202            cool_stuff             5  \n",
            "4  48436dade18ac8b2bce089ec2a041202            cool_stuff             5  \n"
          ]
        }
      ],
      "source": [
        "# Load the datasets\n",
        "products_df = pd.read_csv('products_dataset.csv')\n",
        "order_items_df = pd.read_csv('order_items_dataset.csv')\n",
        "reviews_df = pd.read_csv('order_reviews_dataset.csv')\n",
        "\n",
        "# Merge order_items with products based on 'product_id'\n",
        "merged_df = pd.merge(order_items_df[['order_id', 'product_id', 'seller_id']],\n",
        "                     products_df[['product_id', 'product_category_name']],\n",
        "                     on='product_id', how='inner')\n",
        "\n",
        "# Merge the result with reviews based on 'order_id'\n",
        "data_with_reviews_df = pd.merge(merged_df,\n",
        "                                 reviews_df[['order_id', 'review_score']],\n",
        "                                 on='order_id', how='inner')\n",
        "\n",
        "# Display the resulting merged DataFrame\n",
        "print(data_with_reviews_df.head())"
      ]
    },
    {
      "cell_type": "code",
      "execution_count": null,
      "metadata": {
        "colab": {
          "base_uri": "https://localhost:8080/"
        },
        "id": "9Mfha_NrfllJ",
        "outputId": "664fdfc8-3b37-470a-bec3-ff12361481ed"
      },
      "outputs": [
        {
          "output_type": "stream",
          "name": "stdout",
          "text": [
            "   order_item_id                         seller_id    seller_city seller_state\n",
            "0              1  48436dade18ac8b2bce089ec2a041202  volta redonda           SP\n",
            "1              1  48436dade18ac8b2bce089ec2a041202  volta redonda           SP\n",
            "2              1  48436dade18ac8b2bce089ec2a041202  volta redonda           SP\n",
            "3              1  48436dade18ac8b2bce089ec2a041202  volta redonda           SP\n",
            "4              1  48436dade18ac8b2bce089ec2a041202  volta redonda           SP\n"
          ]
        }
      ],
      "source": [
        "# Load the datasets\n",
        "sellers_df = pd.read_csv('sellers_dataset.csv')\n",
        "order_items_df = pd.read_csv('order_items_dataset.csv')\n",
        "\n",
        "# Merge order_items with sellers based on 'seller_id'\n",
        "merged_sellers_df = pd.merge(order_items_df[['order_item_id', 'seller_id']],\n",
        "                              sellers_df[['seller_id', 'seller_city', 'seller_state']],\n",
        "                              on='seller_id', how='inner')\n",
        "\n",
        "# Display the resulting merged DataFrame\n",
        "print(merged_sellers_df.head())"
      ]
    },
    {
      "cell_type": "markdown",
      "metadata": {
        "id": "MUnjmHhYfwE9"
      },
      "source": [
        "##Insight\n",
        "- **Bussines Question 1: Which product category has the highest rate of return?**\n",
        "Prepare data to analyze which product category has the highest return rate. The data used are products_dataset (product_id column, product_category_name), order_items_dataset (order_id column, product_id), and order_reviews_dataset (order_id column, review_scores). The three datasets are created into one new dataframe, namely data_with_reviews_df.\n",
        "\n",
        "- **Bussines Question 2: Which seller has the highest sales volume?**\n",
        "Prepare data to analyze which sellers have the highest sales volume. The data used are sellers_dataset (seller_id, seller_city, seller_state columns) and order_items_dataset (order_id, seller_id, price columns). The two datasets are merged into a new dataframe, merged_sellers_df."
      ]
    },
    {
      "cell_type": "markdown",
      "metadata": {
        "id": "XmA2-PqLfxj4"
      },
      "source": [
        "### Data Assesing"
      ]
    },
    {
      "cell_type": "code",
      "execution_count": null,
      "metadata": {
        "colab": {
          "base_uri": "https://localhost:8080/"
        },
        "id": "1Aj22FDNf8iy",
        "outputId": "3ede5060-1ac9-4141-e539-243616be9d81"
      },
      "outputs": [
        {
          "output_type": "stream",
          "name": "stdout",
          "text": [
            "<class 'pandas.core.frame.DataFrame'>\n",
            "RangeIndex: 112372 entries, 0 to 112371\n",
            "Data columns (total 5 columns):\n",
            " #   Column                 Non-Null Count   Dtype \n",
            "---  ------                 --------------   ----- \n",
            " 0   order_id               112372 non-null  object\n",
            " 1   product_id             112372 non-null  object\n",
            " 2   seller_id              112372 non-null  object\n",
            " 3   product_category_name  110774 non-null  object\n",
            " 4   review_score           112372 non-null  int64 \n",
            "dtypes: int64(1), object(4)\n",
            "memory usage: 4.3+ MB\n"
          ]
        }
      ],
      "source": [
        "data_with_reviews_df.info()"
      ]
    },
    {
      "cell_type": "code",
      "execution_count": null,
      "metadata": {
        "colab": {
          "base_uri": "https://localhost:8080/"
        },
        "id": "82ZoNIaPf9S0",
        "outputId": "42140f86-2efc-479e-ba72-3430d15d7186"
      },
      "outputs": [
        {
          "output_type": "stream",
          "name": "stdout",
          "text": [
            "<class 'pandas.core.frame.DataFrame'>\n",
            "RangeIndex: 112650 entries, 0 to 112649\n",
            "Data columns (total 4 columns):\n",
            " #   Column         Non-Null Count   Dtype \n",
            "---  ------         --------------   ----- \n",
            " 0   order_item_id  112650 non-null  int64 \n",
            " 1   seller_id      112650 non-null  object\n",
            " 2   seller_city    112650 non-null  object\n",
            " 3   seller_state   112650 non-null  object\n",
            "dtypes: int64(1), object(3)\n",
            "memory usage: 3.4+ MB\n"
          ]
        }
      ],
      "source": [
        "merged_sellers_df.info()"
      ]
    },
    {
      "cell_type": "markdown",
      "metadata": {
        "id": "Vy5yEyhbgPUv"
      },
      "source": [
        "**Insight**\n",
        "\n",
        "**Bussines Question 1**\n",
        "- Data types for all columns are correct\n",
        "- Order_Id, product_Id, seller_Id and review_score columns have complete data with no missing values.\n",
        "- There are 1598 missing values in product_category_name column.\n",
        "\n",
        "**Business Question 2**\n",
        "- Data types for all columns are correct\n",
        "- There are no missing values for all columns\n",
        "  \n",
        "  \n"
      ]
    },
    {
      "cell_type": "code",
      "execution_count": null,
      "metadata": {
        "colab": {
          "base_uri": "https://localhost:8080/",
          "height": 241
        },
        "id": "FytFYSY_gB9n",
        "outputId": "4436cd15-b864-442d-a8ae-da6fdbc5fc80"
      },
      "outputs": [
        {
          "output_type": "execute_result",
          "data": {
            "text/plain": [
              "order_id                    0\n",
              "product_id                  0\n",
              "seller_id                   0\n",
              "product_category_name    1598\n",
              "review_score                0\n",
              "dtype: int64"
            ],
            "text/html": [
              "<div>\n",
              "<style scoped>\n",
              "    .dataframe tbody tr th:only-of-type {\n",
              "        vertical-align: middle;\n",
              "    }\n",
              "\n",
              "    .dataframe tbody tr th {\n",
              "        vertical-align: top;\n",
              "    }\n",
              "\n",
              "    .dataframe thead th {\n",
              "        text-align: right;\n",
              "    }\n",
              "</style>\n",
              "<table border=\"1\" class=\"dataframe\">\n",
              "  <thead>\n",
              "    <tr style=\"text-align: right;\">\n",
              "      <th></th>\n",
              "      <th>0</th>\n",
              "    </tr>\n",
              "  </thead>\n",
              "  <tbody>\n",
              "    <tr>\n",
              "      <th>order_id</th>\n",
              "      <td>0</td>\n",
              "    </tr>\n",
              "    <tr>\n",
              "      <th>product_id</th>\n",
              "      <td>0</td>\n",
              "    </tr>\n",
              "    <tr>\n",
              "      <th>seller_id</th>\n",
              "      <td>0</td>\n",
              "    </tr>\n",
              "    <tr>\n",
              "      <th>product_category_name</th>\n",
              "      <td>1598</td>\n",
              "    </tr>\n",
              "    <tr>\n",
              "      <th>review_score</th>\n",
              "      <td>0</td>\n",
              "    </tr>\n",
              "  </tbody>\n",
              "</table>\n",
              "</div><br><label><b>dtype:</b> int64</label>"
            ]
          },
          "metadata": {},
          "execution_count": 8
        }
      ],
      "source": [
        "# Check for missing values\n",
        "data_with_reviews_df.isna().sum()\n"
      ]
    },
    {
      "cell_type": "code",
      "execution_count": null,
      "metadata": {
        "colab": {
          "base_uri": "https://localhost:8080/",
          "height": 209
        },
        "id": "hWwpoX9200Cg",
        "outputId": "4738ce83-2890-47d0-9dfb-5e3a962a711a"
      },
      "outputs": [
        {
          "output_type": "execute_result",
          "data": {
            "text/plain": [
              "order_item_id    0\n",
              "seller_id        0\n",
              "seller_city      0\n",
              "seller_state     0\n",
              "dtype: int64"
            ],
            "text/html": [
              "<div>\n",
              "<style scoped>\n",
              "    .dataframe tbody tr th:only-of-type {\n",
              "        vertical-align: middle;\n",
              "    }\n",
              "\n",
              "    .dataframe tbody tr th {\n",
              "        vertical-align: top;\n",
              "    }\n",
              "\n",
              "    .dataframe thead th {\n",
              "        text-align: right;\n",
              "    }\n",
              "</style>\n",
              "<table border=\"1\" class=\"dataframe\">\n",
              "  <thead>\n",
              "    <tr style=\"text-align: right;\">\n",
              "      <th></th>\n",
              "      <th>0</th>\n",
              "    </tr>\n",
              "  </thead>\n",
              "  <tbody>\n",
              "    <tr>\n",
              "      <th>order_item_id</th>\n",
              "      <td>0</td>\n",
              "    </tr>\n",
              "    <tr>\n",
              "      <th>seller_id</th>\n",
              "      <td>0</td>\n",
              "    </tr>\n",
              "    <tr>\n",
              "      <th>seller_city</th>\n",
              "      <td>0</td>\n",
              "    </tr>\n",
              "    <tr>\n",
              "      <th>seller_state</th>\n",
              "      <td>0</td>\n",
              "    </tr>\n",
              "  </tbody>\n",
              "</table>\n",
              "</div><br><label><b>dtype:</b> int64</label>"
            ]
          },
          "metadata": {},
          "execution_count": 27
        }
      ],
      "source": [
        "# Check missing values\n",
        "merged_sellers_df.isna().sum()"
      ]
    },
    {
      "cell_type": "code",
      "execution_count": null,
      "metadata": {
        "colab": {
          "base_uri": "https://localhost:8080/",
          "height": 300
        },
        "id": "xpySIemRgGsc",
        "outputId": "f52094f1-889a-4a0e-a616-b7eda1e5768d"
      },
      "outputs": [
        {
          "output_type": "execute_result",
          "data": {
            "text/plain": [
              "        review_score\n",
              "count  112372.000000\n",
              "mean        4.032473\n",
              "std         1.387849\n",
              "min         1.000000\n",
              "25%         4.000000\n",
              "50%         5.000000\n",
              "75%         5.000000\n",
              "max         5.000000"
            ],
            "text/html": [
              "\n",
              "  <div id=\"df-037b4e10-59ac-44ec-ad3e-3625ad6445b1\" class=\"colab-df-container\">\n",
              "    <div>\n",
              "<style scoped>\n",
              "    .dataframe tbody tr th:only-of-type {\n",
              "        vertical-align: middle;\n",
              "    }\n",
              "\n",
              "    .dataframe tbody tr th {\n",
              "        vertical-align: top;\n",
              "    }\n",
              "\n",
              "    .dataframe thead th {\n",
              "        text-align: right;\n",
              "    }\n",
              "</style>\n",
              "<table border=\"1\" class=\"dataframe\">\n",
              "  <thead>\n",
              "    <tr style=\"text-align: right;\">\n",
              "      <th></th>\n",
              "      <th>review_score</th>\n",
              "    </tr>\n",
              "  </thead>\n",
              "  <tbody>\n",
              "    <tr>\n",
              "      <th>count</th>\n",
              "      <td>112372.000000</td>\n",
              "    </tr>\n",
              "    <tr>\n",
              "      <th>mean</th>\n",
              "      <td>4.032473</td>\n",
              "    </tr>\n",
              "    <tr>\n",
              "      <th>std</th>\n",
              "      <td>1.387849</td>\n",
              "    </tr>\n",
              "    <tr>\n",
              "      <th>min</th>\n",
              "      <td>1.000000</td>\n",
              "    </tr>\n",
              "    <tr>\n",
              "      <th>25%</th>\n",
              "      <td>4.000000</td>\n",
              "    </tr>\n",
              "    <tr>\n",
              "      <th>50%</th>\n",
              "      <td>5.000000</td>\n",
              "    </tr>\n",
              "    <tr>\n",
              "      <th>75%</th>\n",
              "      <td>5.000000</td>\n",
              "    </tr>\n",
              "    <tr>\n",
              "      <th>max</th>\n",
              "      <td>5.000000</td>\n",
              "    </tr>\n",
              "  </tbody>\n",
              "</table>\n",
              "</div>\n",
              "    <div class=\"colab-df-buttons\">\n",
              "\n",
              "  <div class=\"colab-df-container\">\n",
              "    <button class=\"colab-df-convert\" onclick=\"convertToInteractive('df-037b4e10-59ac-44ec-ad3e-3625ad6445b1')\"\n",
              "            title=\"Convert this dataframe to an interactive table.\"\n",
              "            style=\"display:none;\">\n",
              "\n",
              "  <svg xmlns=\"http://www.w3.org/2000/svg\" height=\"24px\" viewBox=\"0 -960 960 960\">\n",
              "    <path d=\"M120-120v-720h720v720H120Zm60-500h600v-160H180v160Zm220 220h160v-160H400v160Zm0 220h160v-160H400v160ZM180-400h160v-160H180v160Zm440 0h160v-160H620v160ZM180-180h160v-160H180v160Zm440 0h160v-160H620v160Z\"/>\n",
              "  </svg>\n",
              "    </button>\n",
              "\n",
              "  <style>\n",
              "    .colab-df-container {\n",
              "      display:flex;\n",
              "      gap: 12px;\n",
              "    }\n",
              "\n",
              "    .colab-df-convert {\n",
              "      background-color: #E8F0FE;\n",
              "      border: none;\n",
              "      border-radius: 50%;\n",
              "      cursor: pointer;\n",
              "      display: none;\n",
              "      fill: #1967D2;\n",
              "      height: 32px;\n",
              "      padding: 0 0 0 0;\n",
              "      width: 32px;\n",
              "    }\n",
              "\n",
              "    .colab-df-convert:hover {\n",
              "      background-color: #E2EBFA;\n",
              "      box-shadow: 0px 1px 2px rgba(60, 64, 67, 0.3), 0px 1px 3px 1px rgba(60, 64, 67, 0.15);\n",
              "      fill: #174EA6;\n",
              "    }\n",
              "\n",
              "    .colab-df-buttons div {\n",
              "      margin-bottom: 4px;\n",
              "    }\n",
              "\n",
              "    [theme=dark] .colab-df-convert {\n",
              "      background-color: #3B4455;\n",
              "      fill: #D2E3FC;\n",
              "    }\n",
              "\n",
              "    [theme=dark] .colab-df-convert:hover {\n",
              "      background-color: #434B5C;\n",
              "      box-shadow: 0px 1px 3px 1px rgba(0, 0, 0, 0.15);\n",
              "      filter: drop-shadow(0px 1px 2px rgba(0, 0, 0, 0.3));\n",
              "      fill: #FFFFFF;\n",
              "    }\n",
              "  </style>\n",
              "\n",
              "    <script>\n",
              "      const buttonEl =\n",
              "        document.querySelector('#df-037b4e10-59ac-44ec-ad3e-3625ad6445b1 button.colab-df-convert');\n",
              "      buttonEl.style.display =\n",
              "        google.colab.kernel.accessAllowed ? 'block' : 'none';\n",
              "\n",
              "      async function convertToInteractive(key) {\n",
              "        const element = document.querySelector('#df-037b4e10-59ac-44ec-ad3e-3625ad6445b1');\n",
              "        const dataTable =\n",
              "          await google.colab.kernel.invokeFunction('convertToInteractive',\n",
              "                                                    [key], {});\n",
              "        if (!dataTable) return;\n",
              "\n",
              "        const docLinkHtml = 'Like what you see? Visit the ' +\n",
              "          '<a target=\"_blank\" href=https://colab.research.google.com/notebooks/data_table.ipynb>data table notebook</a>'\n",
              "          + ' to learn more about interactive tables.';\n",
              "        element.innerHTML = '';\n",
              "        dataTable['output_type'] = 'display_data';\n",
              "        await google.colab.output.renderOutput(dataTable, element);\n",
              "        const docLink = document.createElement('div');\n",
              "        docLink.innerHTML = docLinkHtml;\n",
              "        element.appendChild(docLink);\n",
              "      }\n",
              "    </script>\n",
              "  </div>\n",
              "\n",
              "\n",
              "<div id=\"df-2f5e2c88-05a3-40d8-a902-4087ad56c88d\">\n",
              "  <button class=\"colab-df-quickchart\" onclick=\"quickchart('df-2f5e2c88-05a3-40d8-a902-4087ad56c88d')\"\n",
              "            title=\"Suggest charts\"\n",
              "            style=\"display:none;\">\n",
              "\n",
              "<svg xmlns=\"http://www.w3.org/2000/svg\" height=\"24px\"viewBox=\"0 0 24 24\"\n",
              "     width=\"24px\">\n",
              "    <g>\n",
              "        <path d=\"M19 3H5c-1.1 0-2 .9-2 2v14c0 1.1.9 2 2 2h14c1.1 0 2-.9 2-2V5c0-1.1-.9-2-2-2zM9 17H7v-7h2v7zm4 0h-2V7h2v10zm4 0h-2v-4h2v4z\"/>\n",
              "    </g>\n",
              "</svg>\n",
              "  </button>\n",
              "\n",
              "<style>\n",
              "  .colab-df-quickchart {\n",
              "      --bg-color: #E8F0FE;\n",
              "      --fill-color: #1967D2;\n",
              "      --hover-bg-color: #E2EBFA;\n",
              "      --hover-fill-color: #174EA6;\n",
              "      --disabled-fill-color: #AAA;\n",
              "      --disabled-bg-color: #DDD;\n",
              "  }\n",
              "\n",
              "  [theme=dark] .colab-df-quickchart {\n",
              "      --bg-color: #3B4455;\n",
              "      --fill-color: #D2E3FC;\n",
              "      --hover-bg-color: #434B5C;\n",
              "      --hover-fill-color: #FFFFFF;\n",
              "      --disabled-bg-color: #3B4455;\n",
              "      --disabled-fill-color: #666;\n",
              "  }\n",
              "\n",
              "  .colab-df-quickchart {\n",
              "    background-color: var(--bg-color);\n",
              "    border: none;\n",
              "    border-radius: 50%;\n",
              "    cursor: pointer;\n",
              "    display: none;\n",
              "    fill: var(--fill-color);\n",
              "    height: 32px;\n",
              "    padding: 0;\n",
              "    width: 32px;\n",
              "  }\n",
              "\n",
              "  .colab-df-quickchart:hover {\n",
              "    background-color: var(--hover-bg-color);\n",
              "    box-shadow: 0 1px 2px rgba(60, 64, 67, 0.3), 0 1px 3px 1px rgba(60, 64, 67, 0.15);\n",
              "    fill: var(--button-hover-fill-color);\n",
              "  }\n",
              "\n",
              "  .colab-df-quickchart-complete:disabled,\n",
              "  .colab-df-quickchart-complete:disabled:hover {\n",
              "    background-color: var(--disabled-bg-color);\n",
              "    fill: var(--disabled-fill-color);\n",
              "    box-shadow: none;\n",
              "  }\n",
              "\n",
              "  .colab-df-spinner {\n",
              "    border: 2px solid var(--fill-color);\n",
              "    border-color: transparent;\n",
              "    border-bottom-color: var(--fill-color);\n",
              "    animation:\n",
              "      spin 1s steps(1) infinite;\n",
              "  }\n",
              "\n",
              "  @keyframes spin {\n",
              "    0% {\n",
              "      border-color: transparent;\n",
              "      border-bottom-color: var(--fill-color);\n",
              "      border-left-color: var(--fill-color);\n",
              "    }\n",
              "    20% {\n",
              "      border-color: transparent;\n",
              "      border-left-color: var(--fill-color);\n",
              "      border-top-color: var(--fill-color);\n",
              "    }\n",
              "    30% {\n",
              "      border-color: transparent;\n",
              "      border-left-color: var(--fill-color);\n",
              "      border-top-color: var(--fill-color);\n",
              "      border-right-color: var(--fill-color);\n",
              "    }\n",
              "    40% {\n",
              "      border-color: transparent;\n",
              "      border-right-color: var(--fill-color);\n",
              "      border-top-color: var(--fill-color);\n",
              "    }\n",
              "    60% {\n",
              "      border-color: transparent;\n",
              "      border-right-color: var(--fill-color);\n",
              "    }\n",
              "    80% {\n",
              "      border-color: transparent;\n",
              "      border-right-color: var(--fill-color);\n",
              "      border-bottom-color: var(--fill-color);\n",
              "    }\n",
              "    90% {\n",
              "      border-color: transparent;\n",
              "      border-bottom-color: var(--fill-color);\n",
              "    }\n",
              "  }\n",
              "</style>\n",
              "\n",
              "  <script>\n",
              "    async function quickchart(key) {\n",
              "      const quickchartButtonEl =\n",
              "        document.querySelector('#' + key + ' button');\n",
              "      quickchartButtonEl.disabled = true;  // To prevent multiple clicks.\n",
              "      quickchartButtonEl.classList.add('colab-df-spinner');\n",
              "      try {\n",
              "        const charts = await google.colab.kernel.invokeFunction(\n",
              "            'suggestCharts', [key], {});\n",
              "      } catch (error) {\n",
              "        console.error('Error during call to suggestCharts:', error);\n",
              "      }\n",
              "      quickchartButtonEl.classList.remove('colab-df-spinner');\n",
              "      quickchartButtonEl.classList.add('colab-df-quickchart-complete');\n",
              "    }\n",
              "    (() => {\n",
              "      let quickchartButtonEl =\n",
              "        document.querySelector('#df-2f5e2c88-05a3-40d8-a902-4087ad56c88d button');\n",
              "      quickchartButtonEl.style.display =\n",
              "        google.colab.kernel.accessAllowed ? 'block' : 'none';\n",
              "    })();\n",
              "  </script>\n",
              "</div>\n",
              "\n",
              "    </div>\n",
              "  </div>\n"
            ],
            "application/vnd.google.colaboratory.intrinsic+json": {
              "type": "dataframe",
              "summary": "{\n  \"name\": \"data_with_reviews_df\",\n  \"rows\": 8,\n  \"fields\": [\n    {\n      \"column\": \"review_score\",\n      \"properties\": {\n        \"dtype\": \"number\",\n        \"std\": 39728.217719771514,\n        \"min\": 1.0,\n        \"max\": 112372.0,\n        \"num_unique_values\": 6,\n        \"samples\": [\n          112372.0,\n          4.032472502046773,\n          5.0\n        ],\n        \"semantic_type\": \"\",\n        \"description\": \"\"\n      }\n    }\n  ]\n}"
            }
          },
          "metadata": {},
          "execution_count": 10
        }
      ],
      "source": [
        "# Check statistik desciptive\n",
        "data_with_reviews_df.describe()"
      ]
    },
    {
      "cell_type": "code",
      "execution_count": null,
      "metadata": {
        "colab": {
          "base_uri": "https://localhost:8080/",
          "height": 300
        },
        "id": "T0E_RwqX2sHu",
        "outputId": "267c44a0-ae52-4dff-b9e9-879db36914fe"
      },
      "outputs": [
        {
          "output_type": "execute_result",
          "data": {
            "text/plain": [
              "       order_item_id\n",
              "count  112650.000000\n",
              "mean        1.197834\n",
              "std         0.705124\n",
              "min         1.000000\n",
              "25%         1.000000\n",
              "50%         1.000000\n",
              "75%         1.000000\n",
              "max        21.000000"
            ],
            "text/html": [
              "\n",
              "  <div id=\"df-39e0c35b-6e61-4504-a9ec-ce6f79a53ad2\" class=\"colab-df-container\">\n",
              "    <div>\n",
              "<style scoped>\n",
              "    .dataframe tbody tr th:only-of-type {\n",
              "        vertical-align: middle;\n",
              "    }\n",
              "\n",
              "    .dataframe tbody tr th {\n",
              "        vertical-align: top;\n",
              "    }\n",
              "\n",
              "    .dataframe thead th {\n",
              "        text-align: right;\n",
              "    }\n",
              "</style>\n",
              "<table border=\"1\" class=\"dataframe\">\n",
              "  <thead>\n",
              "    <tr style=\"text-align: right;\">\n",
              "      <th></th>\n",
              "      <th>order_item_id</th>\n",
              "    </tr>\n",
              "  </thead>\n",
              "  <tbody>\n",
              "    <tr>\n",
              "      <th>count</th>\n",
              "      <td>112650.000000</td>\n",
              "    </tr>\n",
              "    <tr>\n",
              "      <th>mean</th>\n",
              "      <td>1.197834</td>\n",
              "    </tr>\n",
              "    <tr>\n",
              "      <th>std</th>\n",
              "      <td>0.705124</td>\n",
              "    </tr>\n",
              "    <tr>\n",
              "      <th>min</th>\n",
              "      <td>1.000000</td>\n",
              "    </tr>\n",
              "    <tr>\n",
              "      <th>25%</th>\n",
              "      <td>1.000000</td>\n",
              "    </tr>\n",
              "    <tr>\n",
              "      <th>50%</th>\n",
              "      <td>1.000000</td>\n",
              "    </tr>\n",
              "    <tr>\n",
              "      <th>75%</th>\n",
              "      <td>1.000000</td>\n",
              "    </tr>\n",
              "    <tr>\n",
              "      <th>max</th>\n",
              "      <td>21.000000</td>\n",
              "    </tr>\n",
              "  </tbody>\n",
              "</table>\n",
              "</div>\n",
              "    <div class=\"colab-df-buttons\">\n",
              "\n",
              "  <div class=\"colab-df-container\">\n",
              "    <button class=\"colab-df-convert\" onclick=\"convertToInteractive('df-39e0c35b-6e61-4504-a9ec-ce6f79a53ad2')\"\n",
              "            title=\"Convert this dataframe to an interactive table.\"\n",
              "            style=\"display:none;\">\n",
              "\n",
              "  <svg xmlns=\"http://www.w3.org/2000/svg\" height=\"24px\" viewBox=\"0 -960 960 960\">\n",
              "    <path d=\"M120-120v-720h720v720H120Zm60-500h600v-160H180v160Zm220 220h160v-160H400v160Zm0 220h160v-160H400v160ZM180-400h160v-160H180v160Zm440 0h160v-160H620v160ZM180-180h160v-160H180v160Zm440 0h160v-160H620v160Z\"/>\n",
              "  </svg>\n",
              "    </button>\n",
              "\n",
              "  <style>\n",
              "    .colab-df-container {\n",
              "      display:flex;\n",
              "      gap: 12px;\n",
              "    }\n",
              "\n",
              "    .colab-df-convert {\n",
              "      background-color: #E8F0FE;\n",
              "      border: none;\n",
              "      border-radius: 50%;\n",
              "      cursor: pointer;\n",
              "      display: none;\n",
              "      fill: #1967D2;\n",
              "      height: 32px;\n",
              "      padding: 0 0 0 0;\n",
              "      width: 32px;\n",
              "    }\n",
              "\n",
              "    .colab-df-convert:hover {\n",
              "      background-color: #E2EBFA;\n",
              "      box-shadow: 0px 1px 2px rgba(60, 64, 67, 0.3), 0px 1px 3px 1px rgba(60, 64, 67, 0.15);\n",
              "      fill: #174EA6;\n",
              "    }\n",
              "\n",
              "    .colab-df-buttons div {\n",
              "      margin-bottom: 4px;\n",
              "    }\n",
              "\n",
              "    [theme=dark] .colab-df-convert {\n",
              "      background-color: #3B4455;\n",
              "      fill: #D2E3FC;\n",
              "    }\n",
              "\n",
              "    [theme=dark] .colab-df-convert:hover {\n",
              "      background-color: #434B5C;\n",
              "      box-shadow: 0px 1px 3px 1px rgba(0, 0, 0, 0.15);\n",
              "      filter: drop-shadow(0px 1px 2px rgba(0, 0, 0, 0.3));\n",
              "      fill: #FFFFFF;\n",
              "    }\n",
              "  </style>\n",
              "\n",
              "    <script>\n",
              "      const buttonEl =\n",
              "        document.querySelector('#df-39e0c35b-6e61-4504-a9ec-ce6f79a53ad2 button.colab-df-convert');\n",
              "      buttonEl.style.display =\n",
              "        google.colab.kernel.accessAllowed ? 'block' : 'none';\n",
              "\n",
              "      async function convertToInteractive(key) {\n",
              "        const element = document.querySelector('#df-39e0c35b-6e61-4504-a9ec-ce6f79a53ad2');\n",
              "        const dataTable =\n",
              "          await google.colab.kernel.invokeFunction('convertToInteractive',\n",
              "                                                    [key], {});\n",
              "        if (!dataTable) return;\n",
              "\n",
              "        const docLinkHtml = 'Like what you see? Visit the ' +\n",
              "          '<a target=\"_blank\" href=https://colab.research.google.com/notebooks/data_table.ipynb>data table notebook</a>'\n",
              "          + ' to learn more about interactive tables.';\n",
              "        element.innerHTML = '';\n",
              "        dataTable['output_type'] = 'display_data';\n",
              "        await google.colab.output.renderOutput(dataTable, element);\n",
              "        const docLink = document.createElement('div');\n",
              "        docLink.innerHTML = docLinkHtml;\n",
              "        element.appendChild(docLink);\n",
              "      }\n",
              "    </script>\n",
              "  </div>\n",
              "\n",
              "\n",
              "<div id=\"df-dbe0fe7b-b1ce-4c22-8d6c-a9a2d2bb9c48\">\n",
              "  <button class=\"colab-df-quickchart\" onclick=\"quickchart('df-dbe0fe7b-b1ce-4c22-8d6c-a9a2d2bb9c48')\"\n",
              "            title=\"Suggest charts\"\n",
              "            style=\"display:none;\">\n",
              "\n",
              "<svg xmlns=\"http://www.w3.org/2000/svg\" height=\"24px\"viewBox=\"0 0 24 24\"\n",
              "     width=\"24px\">\n",
              "    <g>\n",
              "        <path d=\"M19 3H5c-1.1 0-2 .9-2 2v14c0 1.1.9 2 2 2h14c1.1 0 2-.9 2-2V5c0-1.1-.9-2-2-2zM9 17H7v-7h2v7zm4 0h-2V7h2v10zm4 0h-2v-4h2v4z\"/>\n",
              "    </g>\n",
              "</svg>\n",
              "  </button>\n",
              "\n",
              "<style>\n",
              "  .colab-df-quickchart {\n",
              "      --bg-color: #E8F0FE;\n",
              "      --fill-color: #1967D2;\n",
              "      --hover-bg-color: #E2EBFA;\n",
              "      --hover-fill-color: #174EA6;\n",
              "      --disabled-fill-color: #AAA;\n",
              "      --disabled-bg-color: #DDD;\n",
              "  }\n",
              "\n",
              "  [theme=dark] .colab-df-quickchart {\n",
              "      --bg-color: #3B4455;\n",
              "      --fill-color: #D2E3FC;\n",
              "      --hover-bg-color: #434B5C;\n",
              "      --hover-fill-color: #FFFFFF;\n",
              "      --disabled-bg-color: #3B4455;\n",
              "      --disabled-fill-color: #666;\n",
              "  }\n",
              "\n",
              "  .colab-df-quickchart {\n",
              "    background-color: var(--bg-color);\n",
              "    border: none;\n",
              "    border-radius: 50%;\n",
              "    cursor: pointer;\n",
              "    display: none;\n",
              "    fill: var(--fill-color);\n",
              "    height: 32px;\n",
              "    padding: 0;\n",
              "    width: 32px;\n",
              "  }\n",
              "\n",
              "  .colab-df-quickchart:hover {\n",
              "    background-color: var(--hover-bg-color);\n",
              "    box-shadow: 0 1px 2px rgba(60, 64, 67, 0.3), 0 1px 3px 1px rgba(60, 64, 67, 0.15);\n",
              "    fill: var(--button-hover-fill-color);\n",
              "  }\n",
              "\n",
              "  .colab-df-quickchart-complete:disabled,\n",
              "  .colab-df-quickchart-complete:disabled:hover {\n",
              "    background-color: var(--disabled-bg-color);\n",
              "    fill: var(--disabled-fill-color);\n",
              "    box-shadow: none;\n",
              "  }\n",
              "\n",
              "  .colab-df-spinner {\n",
              "    border: 2px solid var(--fill-color);\n",
              "    border-color: transparent;\n",
              "    border-bottom-color: var(--fill-color);\n",
              "    animation:\n",
              "      spin 1s steps(1) infinite;\n",
              "  }\n",
              "\n",
              "  @keyframes spin {\n",
              "    0% {\n",
              "      border-color: transparent;\n",
              "      border-bottom-color: var(--fill-color);\n",
              "      border-left-color: var(--fill-color);\n",
              "    }\n",
              "    20% {\n",
              "      border-color: transparent;\n",
              "      border-left-color: var(--fill-color);\n",
              "      border-top-color: var(--fill-color);\n",
              "    }\n",
              "    30% {\n",
              "      border-color: transparent;\n",
              "      border-left-color: var(--fill-color);\n",
              "      border-top-color: var(--fill-color);\n",
              "      border-right-color: var(--fill-color);\n",
              "    }\n",
              "    40% {\n",
              "      border-color: transparent;\n",
              "      border-right-color: var(--fill-color);\n",
              "      border-top-color: var(--fill-color);\n",
              "    }\n",
              "    60% {\n",
              "      border-color: transparent;\n",
              "      border-right-color: var(--fill-color);\n",
              "    }\n",
              "    80% {\n",
              "      border-color: transparent;\n",
              "      border-right-color: var(--fill-color);\n",
              "      border-bottom-color: var(--fill-color);\n",
              "    }\n",
              "    90% {\n",
              "      border-color: transparent;\n",
              "      border-bottom-color: var(--fill-color);\n",
              "    }\n",
              "  }\n",
              "</style>\n",
              "\n",
              "  <script>\n",
              "    async function quickchart(key) {\n",
              "      const quickchartButtonEl =\n",
              "        document.querySelector('#' + key + ' button');\n",
              "      quickchartButtonEl.disabled = true;  // To prevent multiple clicks.\n",
              "      quickchartButtonEl.classList.add('colab-df-spinner');\n",
              "      try {\n",
              "        const charts = await google.colab.kernel.invokeFunction(\n",
              "            'suggestCharts', [key], {});\n",
              "      } catch (error) {\n",
              "        console.error('Error during call to suggestCharts:', error);\n",
              "      }\n",
              "      quickchartButtonEl.classList.remove('colab-df-spinner');\n",
              "      quickchartButtonEl.classList.add('colab-df-quickchart-complete');\n",
              "    }\n",
              "    (() => {\n",
              "      let quickchartButtonEl =\n",
              "        document.querySelector('#df-dbe0fe7b-b1ce-4c22-8d6c-a9a2d2bb9c48 button');\n",
              "      quickchartButtonEl.style.display =\n",
              "        google.colab.kernel.accessAllowed ? 'block' : 'none';\n",
              "    })();\n",
              "  </script>\n",
              "</div>\n",
              "\n",
              "    </div>\n",
              "  </div>\n"
            ],
            "application/vnd.google.colaboratory.intrinsic+json": {
              "type": "dataframe",
              "summary": "{\n  \"name\": \"merged_sellers_df\",\n  \"rows\": 8,\n  \"fields\": [\n    {\n      \"column\": \"order_item_id\",\n      \"properties\": {\n        \"dtype\": \"number\",\n        \"std\": 39826.43126188818,\n        \"min\": 0.7051240313951733,\n        \"max\": 112650.0,\n        \"num_unique_values\": 5,\n        \"samples\": [\n          1.1978339991122948,\n          21.0,\n          0.7051240313951733\n        ],\n        \"semantic_type\": \"\",\n        \"description\": \"\"\n      }\n    }\n  ]\n}"
            }
          },
          "metadata": {},
          "execution_count": 28
        }
      ],
      "source": [
        "# Check statistik desciptive\n",
        "merged_sellers_df.describe()"
      ]
    },
    {
      "cell_type": "code",
      "execution_count": null,
      "metadata": {
        "colab": {
          "base_uri": "https://localhost:8080/",
          "height": 318
        },
        "id": "aMwqVNKiltnP",
        "outputId": "b5524b11-fd46-4e2b-d4cd-99b7397f6ca7"
      },
      "outputs": [
        {
          "output_type": "stream",
          "name": "stdout",
          "text": [
            "Jumlah duplikasi:  0\n"
          ]
        },
        {
          "output_type": "execute_result",
          "data": {
            "text/plain": [
              "        review_score\n",
              "count  100403.000000\n",
              "mean        4.077757\n",
              "std         1.352032\n",
              "min         1.000000\n",
              "25%         4.000000\n",
              "50%         5.000000\n",
              "75%         5.000000\n",
              "max         5.000000"
            ],
            "text/html": [
              "\n",
              "  <div id=\"df-864e9728-b3d2-4271-a475-92c44fa9393d\" class=\"colab-df-container\">\n",
              "    <div>\n",
              "<style scoped>\n",
              "    .dataframe tbody tr th:only-of-type {\n",
              "        vertical-align: middle;\n",
              "    }\n",
              "\n",
              "    .dataframe tbody tr th {\n",
              "        vertical-align: top;\n",
              "    }\n",
              "\n",
              "    .dataframe thead th {\n",
              "        text-align: right;\n",
              "    }\n",
              "</style>\n",
              "<table border=\"1\" class=\"dataframe\">\n",
              "  <thead>\n",
              "    <tr style=\"text-align: right;\">\n",
              "      <th></th>\n",
              "      <th>review_score</th>\n",
              "    </tr>\n",
              "  </thead>\n",
              "  <tbody>\n",
              "    <tr>\n",
              "      <th>count</th>\n",
              "      <td>100403.000000</td>\n",
              "    </tr>\n",
              "    <tr>\n",
              "      <th>mean</th>\n",
              "      <td>4.077757</td>\n",
              "    </tr>\n",
              "    <tr>\n",
              "      <th>std</th>\n",
              "      <td>1.352032</td>\n",
              "    </tr>\n",
              "    <tr>\n",
              "      <th>min</th>\n",
              "      <td>1.000000</td>\n",
              "    </tr>\n",
              "    <tr>\n",
              "      <th>25%</th>\n",
              "      <td>4.000000</td>\n",
              "    </tr>\n",
              "    <tr>\n",
              "      <th>50%</th>\n",
              "      <td>5.000000</td>\n",
              "    </tr>\n",
              "    <tr>\n",
              "      <th>75%</th>\n",
              "      <td>5.000000</td>\n",
              "    </tr>\n",
              "    <tr>\n",
              "      <th>max</th>\n",
              "      <td>5.000000</td>\n",
              "    </tr>\n",
              "  </tbody>\n",
              "</table>\n",
              "</div>\n",
              "    <div class=\"colab-df-buttons\">\n",
              "\n",
              "  <div class=\"colab-df-container\">\n",
              "    <button class=\"colab-df-convert\" onclick=\"convertToInteractive('df-864e9728-b3d2-4271-a475-92c44fa9393d')\"\n",
              "            title=\"Convert this dataframe to an interactive table.\"\n",
              "            style=\"display:none;\">\n",
              "\n",
              "  <svg xmlns=\"http://www.w3.org/2000/svg\" height=\"24px\" viewBox=\"0 -960 960 960\">\n",
              "    <path d=\"M120-120v-720h720v720H120Zm60-500h600v-160H180v160Zm220 220h160v-160H400v160Zm0 220h160v-160H400v160ZM180-400h160v-160H180v160Zm440 0h160v-160H620v160ZM180-180h160v-160H180v160Zm440 0h160v-160H620v160Z\"/>\n",
              "  </svg>\n",
              "    </button>\n",
              "\n",
              "  <style>\n",
              "    .colab-df-container {\n",
              "      display:flex;\n",
              "      gap: 12px;\n",
              "    }\n",
              "\n",
              "    .colab-df-convert {\n",
              "      background-color: #E8F0FE;\n",
              "      border: none;\n",
              "      border-radius: 50%;\n",
              "      cursor: pointer;\n",
              "      display: none;\n",
              "      fill: #1967D2;\n",
              "      height: 32px;\n",
              "      padding: 0 0 0 0;\n",
              "      width: 32px;\n",
              "    }\n",
              "\n",
              "    .colab-df-convert:hover {\n",
              "      background-color: #E2EBFA;\n",
              "      box-shadow: 0px 1px 2px rgba(60, 64, 67, 0.3), 0px 1px 3px 1px rgba(60, 64, 67, 0.15);\n",
              "      fill: #174EA6;\n",
              "    }\n",
              "\n",
              "    .colab-df-buttons div {\n",
              "      margin-bottom: 4px;\n",
              "    }\n",
              "\n",
              "    [theme=dark] .colab-df-convert {\n",
              "      background-color: #3B4455;\n",
              "      fill: #D2E3FC;\n",
              "    }\n",
              "\n",
              "    [theme=dark] .colab-df-convert:hover {\n",
              "      background-color: #434B5C;\n",
              "      box-shadow: 0px 1px 3px 1px rgba(0, 0, 0, 0.15);\n",
              "      filter: drop-shadow(0px 1px 2px rgba(0, 0, 0, 0.3));\n",
              "      fill: #FFFFFF;\n",
              "    }\n",
              "  </style>\n",
              "\n",
              "    <script>\n",
              "      const buttonEl =\n",
              "        document.querySelector('#df-864e9728-b3d2-4271-a475-92c44fa9393d button.colab-df-convert');\n",
              "      buttonEl.style.display =\n",
              "        google.colab.kernel.accessAllowed ? 'block' : 'none';\n",
              "\n",
              "      async function convertToInteractive(key) {\n",
              "        const element = document.querySelector('#df-864e9728-b3d2-4271-a475-92c44fa9393d');\n",
              "        const dataTable =\n",
              "          await google.colab.kernel.invokeFunction('convertToInteractive',\n",
              "                                                    [key], {});\n",
              "        if (!dataTable) return;\n",
              "\n",
              "        const docLinkHtml = 'Like what you see? Visit the ' +\n",
              "          '<a target=\"_blank\" href=https://colab.research.google.com/notebooks/data_table.ipynb>data table notebook</a>'\n",
              "          + ' to learn more about interactive tables.';\n",
              "        element.innerHTML = '';\n",
              "        dataTable['output_type'] = 'display_data';\n",
              "        await google.colab.output.renderOutput(dataTable, element);\n",
              "        const docLink = document.createElement('div');\n",
              "        docLink.innerHTML = docLinkHtml;\n",
              "        element.appendChild(docLink);\n",
              "      }\n",
              "    </script>\n",
              "  </div>\n",
              "\n",
              "\n",
              "<div id=\"df-effb0bf7-66be-4678-a007-ce97e9f08c15\">\n",
              "  <button class=\"colab-df-quickchart\" onclick=\"quickchart('df-effb0bf7-66be-4678-a007-ce97e9f08c15')\"\n",
              "            title=\"Suggest charts\"\n",
              "            style=\"display:none;\">\n",
              "\n",
              "<svg xmlns=\"http://www.w3.org/2000/svg\" height=\"24px\"viewBox=\"0 0 24 24\"\n",
              "     width=\"24px\">\n",
              "    <g>\n",
              "        <path d=\"M19 3H5c-1.1 0-2 .9-2 2v14c0 1.1.9 2 2 2h14c1.1 0 2-.9 2-2V5c0-1.1-.9-2-2-2zM9 17H7v-7h2v7zm4 0h-2V7h2v10zm4 0h-2v-4h2v4z\"/>\n",
              "    </g>\n",
              "</svg>\n",
              "  </button>\n",
              "\n",
              "<style>\n",
              "  .colab-df-quickchart {\n",
              "      --bg-color: #E8F0FE;\n",
              "      --fill-color: #1967D2;\n",
              "      --hover-bg-color: #E2EBFA;\n",
              "      --hover-fill-color: #174EA6;\n",
              "      --disabled-fill-color: #AAA;\n",
              "      --disabled-bg-color: #DDD;\n",
              "  }\n",
              "\n",
              "  [theme=dark] .colab-df-quickchart {\n",
              "      --bg-color: #3B4455;\n",
              "      --fill-color: #D2E3FC;\n",
              "      --hover-bg-color: #434B5C;\n",
              "      --hover-fill-color: #FFFFFF;\n",
              "      --disabled-bg-color: #3B4455;\n",
              "      --disabled-fill-color: #666;\n",
              "  }\n",
              "\n",
              "  .colab-df-quickchart {\n",
              "    background-color: var(--bg-color);\n",
              "    border: none;\n",
              "    border-radius: 50%;\n",
              "    cursor: pointer;\n",
              "    display: none;\n",
              "    fill: var(--fill-color);\n",
              "    height: 32px;\n",
              "    padding: 0;\n",
              "    width: 32px;\n",
              "  }\n",
              "\n",
              "  .colab-df-quickchart:hover {\n",
              "    background-color: var(--hover-bg-color);\n",
              "    box-shadow: 0 1px 2px rgba(60, 64, 67, 0.3), 0 1px 3px 1px rgba(60, 64, 67, 0.15);\n",
              "    fill: var(--button-hover-fill-color);\n",
              "  }\n",
              "\n",
              "  .colab-df-quickchart-complete:disabled,\n",
              "  .colab-df-quickchart-complete:disabled:hover {\n",
              "    background-color: var(--disabled-bg-color);\n",
              "    fill: var(--disabled-fill-color);\n",
              "    box-shadow: none;\n",
              "  }\n",
              "\n",
              "  .colab-df-spinner {\n",
              "    border: 2px solid var(--fill-color);\n",
              "    border-color: transparent;\n",
              "    border-bottom-color: var(--fill-color);\n",
              "    animation:\n",
              "      spin 1s steps(1) infinite;\n",
              "  }\n",
              "\n",
              "  @keyframes spin {\n",
              "    0% {\n",
              "      border-color: transparent;\n",
              "      border-bottom-color: var(--fill-color);\n",
              "      border-left-color: var(--fill-color);\n",
              "    }\n",
              "    20% {\n",
              "      border-color: transparent;\n",
              "      border-left-color: var(--fill-color);\n",
              "      border-top-color: var(--fill-color);\n",
              "    }\n",
              "    30% {\n",
              "      border-color: transparent;\n",
              "      border-left-color: var(--fill-color);\n",
              "      border-top-color: var(--fill-color);\n",
              "      border-right-color: var(--fill-color);\n",
              "    }\n",
              "    40% {\n",
              "      border-color: transparent;\n",
              "      border-right-color: var(--fill-color);\n",
              "      border-top-color: var(--fill-color);\n",
              "    }\n",
              "    60% {\n",
              "      border-color: transparent;\n",
              "      border-right-color: var(--fill-color);\n",
              "    }\n",
              "    80% {\n",
              "      border-color: transparent;\n",
              "      border-right-color: var(--fill-color);\n",
              "      border-bottom-color: var(--fill-color);\n",
              "    }\n",
              "    90% {\n",
              "      border-color: transparent;\n",
              "      border-bottom-color: var(--fill-color);\n",
              "    }\n",
              "  }\n",
              "</style>\n",
              "\n",
              "  <script>\n",
              "    async function quickchart(key) {\n",
              "      const quickchartButtonEl =\n",
              "        document.querySelector('#' + key + ' button');\n",
              "      quickchartButtonEl.disabled = true;  // To prevent multiple clicks.\n",
              "      quickchartButtonEl.classList.add('colab-df-spinner');\n",
              "      try {\n",
              "        const charts = await google.colab.kernel.invokeFunction(\n",
              "            'suggestCharts', [key], {});\n",
              "      } catch (error) {\n",
              "        console.error('Error during call to suggestCharts:', error);\n",
              "      }\n",
              "      quickchartButtonEl.classList.remove('colab-df-spinner');\n",
              "      quickchartButtonEl.classList.add('colab-df-quickchart-complete');\n",
              "    }\n",
              "    (() => {\n",
              "      let quickchartButtonEl =\n",
              "        document.querySelector('#df-effb0bf7-66be-4678-a007-ce97e9f08c15 button');\n",
              "      quickchartButtonEl.style.display =\n",
              "        google.colab.kernel.accessAllowed ? 'block' : 'none';\n",
              "    })();\n",
              "  </script>\n",
              "</div>\n",
              "\n",
              "    </div>\n",
              "  </div>\n"
            ],
            "application/vnd.google.colaboratory.intrinsic+json": {
              "type": "dataframe",
              "summary": "{\n  \"name\": \"data_with_reviews_df\",\n  \"rows\": 8,\n  \"fields\": [\n    {\n      \"column\": \"review_score\",\n      \"properties\": {\n        \"dtype\": \"number\",\n        \"std\": 35496.53671381212,\n        \"min\": 1.0,\n        \"max\": 100403.0,\n        \"num_unique_values\": 6,\n        \"samples\": [\n          100403.0,\n          4.077756640737826,\n          5.0\n        ],\n        \"semantic_type\": \"\",\n        \"description\": \"\"\n      }\n    }\n  ]\n}"
            }
          },
          "metadata": {},
          "execution_count": 29
        }
      ],
      "source": [
        "# Show data duplikasi\n",
        "print(\"Jumlah duplikasi: \", data_with_reviews_df.duplicated().sum())\n",
        "\n",
        "data_with_reviews_df.describe()"
      ]
    },
    {
      "cell_type": "markdown",
      "metadata": {
        "id": "csWRXGW8l888"
      },
      "source": [
        "**Insight Bussines Question 1**\n",
        "- There are 1598 out of 112372 data that are missing values in the product_category_name column. In this case, the missing value is about 1.42% and falls into the small category. For this reason, rows containing missing values were deleted to avoid potential bias from the data artificially.\n",
        "- The results of the descriptive statistical analysis are appropriate.\n",
        "- There are 10517 duplicate data in data_with_reviews"
      ]
    },
    {
      "cell_type": "markdown",
      "metadata": {
        "id": "NUdcwX7elXDZ"
      },
      "source": [
        "###Data Cleaning"
      ]
    },
    {
      "cell_type": "markdown",
      "metadata": {
        "id": "4F8QuZnDzZ-k"
      },
      "source": [
        "**For Bussines Question 1**"
      ]
    },
    {
      "cell_type": "code",
      "execution_count": null,
      "metadata": {
        "colab": {
          "base_uri": "https://localhost:8080/"
        },
        "id": "vnYrTdoMxc0F",
        "outputId": "bddc475f-682e-47c6-dd8e-09f77c41ccb2"
      },
      "outputs": [
        {
          "output_type": "execute_result",
          "data": {
            "text/plain": [
              "Empty DataFrame\n",
              "Columns: [order_id, product_id, seller_id, product_category_name, review_score]\n",
              "Index: []"
            ],
            "text/html": [
              "\n",
              "  <div id=\"df-86bae646-a3bd-4982-a791-9f4295dc10ab\" class=\"colab-df-container\">\n",
              "    <div>\n",
              "<style scoped>\n",
              "    .dataframe tbody tr th:only-of-type {\n",
              "        vertical-align: middle;\n",
              "    }\n",
              "\n",
              "    .dataframe tbody tr th {\n",
              "        vertical-align: top;\n",
              "    }\n",
              "\n",
              "    .dataframe thead th {\n",
              "        text-align: right;\n",
              "    }\n",
              "</style>\n",
              "<table border=\"1\" class=\"dataframe\">\n",
              "  <thead>\n",
              "    <tr style=\"text-align: right;\">\n",
              "      <th></th>\n",
              "      <th>order_id</th>\n",
              "      <th>product_id</th>\n",
              "      <th>seller_id</th>\n",
              "      <th>product_category_name</th>\n",
              "      <th>review_score</th>\n",
              "    </tr>\n",
              "  </thead>\n",
              "  <tbody>\n",
              "  </tbody>\n",
              "</table>\n",
              "</div>\n",
              "    <div class=\"colab-df-buttons\">\n",
              "\n",
              "  <div class=\"colab-df-container\">\n",
              "    <button class=\"colab-df-convert\" onclick=\"convertToInteractive('df-86bae646-a3bd-4982-a791-9f4295dc10ab')\"\n",
              "            title=\"Convert this dataframe to an interactive table.\"\n",
              "            style=\"display:none;\">\n",
              "\n",
              "  <svg xmlns=\"http://www.w3.org/2000/svg\" height=\"24px\" viewBox=\"0 -960 960 960\">\n",
              "    <path d=\"M120-120v-720h720v720H120Zm60-500h600v-160H180v160Zm220 220h160v-160H400v160Zm0 220h160v-160H400v160ZM180-400h160v-160H180v160Zm440 0h160v-160H620v160ZM180-180h160v-160H180v160Zm440 0h160v-160H620v160Z\"/>\n",
              "  </svg>\n",
              "    </button>\n",
              "\n",
              "  <style>\n",
              "    .colab-df-container {\n",
              "      display:flex;\n",
              "      gap: 12px;\n",
              "    }\n",
              "\n",
              "    .colab-df-convert {\n",
              "      background-color: #E8F0FE;\n",
              "      border: none;\n",
              "      border-radius: 50%;\n",
              "      cursor: pointer;\n",
              "      display: none;\n",
              "      fill: #1967D2;\n",
              "      height: 32px;\n",
              "      padding: 0 0 0 0;\n",
              "      width: 32px;\n",
              "    }\n",
              "\n",
              "    .colab-df-convert:hover {\n",
              "      background-color: #E2EBFA;\n",
              "      box-shadow: 0px 1px 2px rgba(60, 64, 67, 0.3), 0px 1px 3px 1px rgba(60, 64, 67, 0.15);\n",
              "      fill: #174EA6;\n",
              "    }\n",
              "\n",
              "    .colab-df-buttons div {\n",
              "      margin-bottom: 4px;\n",
              "    }\n",
              "\n",
              "    [theme=dark] .colab-df-convert {\n",
              "      background-color: #3B4455;\n",
              "      fill: #D2E3FC;\n",
              "    }\n",
              "\n",
              "    [theme=dark] .colab-df-convert:hover {\n",
              "      background-color: #434B5C;\n",
              "      box-shadow: 0px 1px 3px 1px rgba(0, 0, 0, 0.15);\n",
              "      filter: drop-shadow(0px 1px 2px rgba(0, 0, 0, 0.3));\n",
              "      fill: #FFFFFF;\n",
              "    }\n",
              "  </style>\n",
              "\n",
              "    <script>\n",
              "      const buttonEl =\n",
              "        document.querySelector('#df-86bae646-a3bd-4982-a791-9f4295dc10ab button.colab-df-convert');\n",
              "      buttonEl.style.display =\n",
              "        google.colab.kernel.accessAllowed ? 'block' : 'none';\n",
              "\n",
              "      async function convertToInteractive(key) {\n",
              "        const element = document.querySelector('#df-86bae646-a3bd-4982-a791-9f4295dc10ab');\n",
              "        const dataTable =\n",
              "          await google.colab.kernel.invokeFunction('convertToInteractive',\n",
              "                                                    [key], {});\n",
              "        if (!dataTable) return;\n",
              "\n",
              "        const docLinkHtml = 'Like what you see? Visit the ' +\n",
              "          '<a target=\"_blank\" href=https://colab.research.google.com/notebooks/data_table.ipynb>data table notebook</a>'\n",
              "          + ' to learn more about interactive tables.';\n",
              "        element.innerHTML = '';\n",
              "        dataTable['output_type'] = 'display_data';\n",
              "        await google.colab.output.renderOutput(dataTable, element);\n",
              "        const docLink = document.createElement('div');\n",
              "        docLink.innerHTML = docLinkHtml;\n",
              "        element.appendChild(docLink);\n",
              "      }\n",
              "    </script>\n",
              "  </div>\n",
              "\n",
              "\n",
              "    </div>\n",
              "  </div>\n"
            ],
            "application/vnd.google.colaboratory.intrinsic+json": {
              "type": "dataframe",
              "repr_error": "Out of range float values are not JSON compliant: nan"
            }
          },
          "metadata": {},
          "execution_count": 30
        }
      ],
      "source": [
        "# Check missing value\n",
        "data_with_reviews_df[data_with_reviews_df.product_category_name.isna()]"
      ]
    },
    {
      "cell_type": "code",
      "execution_count": null,
      "metadata": {
        "id": "Gxlu7KO-yxjJ"
      },
      "outputs": [],
      "source": [
        "# Remove missing value in product_category_name colum\n",
        "data_with_reviews_df.dropna(subset=['product_category_name'], inplace=True)"
      ]
    },
    {
      "cell_type": "code",
      "execution_count": null,
      "metadata": {
        "id": "cnw95ismwYBH"
      },
      "outputs": [],
      "source": [
        "# Remove data duplicate\n",
        "data_with_reviews_df.drop_duplicates(inplace=True)"
      ]
    },
    {
      "cell_type": "code",
      "execution_count": null,
      "metadata": {
        "colab": {
          "base_uri": "https://localhost:8080/"
        },
        "id": "50AUQRLDxBHW",
        "outputId": "ca004084-380b-4597-d332-3b38fe680fe7"
      },
      "outputs": [
        {
          "output_type": "stream",
          "name": "stdout",
          "text": [
            "Jumlah duplikasi:  0\n"
          ]
        }
      ],
      "source": [
        "# Check data duplicate\n",
        "print(\"Jumlah duplikasi: \", data_with_reviews_df.duplicated().sum())"
      ]
    },
    {
      "cell_type": "code",
      "source": [
        "# Calculate Q1 and Q3\n",
        "Q1 = np.percentile(data_with_reviews_df['review_score'], 25, interpolation='midpoint')\n",
        "Q3 = np.percentile(data_with_reviews_df['review_score'], 75, interpolation='midpoint')\n",
        "\n",
        "# Calculate IQR\n",
        "IQR = Q3 - Q1\n",
        "\n",
        "# Determine lower and upper bounds for outliers\n",
        "lower_bound = Q1 - 1.5 * IQR\n",
        "upper_bound = Q3 + 1.5 * IQR\n",
        "\n",
        "# Identify outliers\n",
        "outliers = data_with_reviews_df[(data_with_reviews_df['review_score'] < lower_bound) | (data_with_reviews_df['review_score'] > upper_bound)]\n",
        "\n",
        "# Print the results\n",
        "print('Nilai batas atas:', upper_bound)\n",
        "print('Nilai batas bawah:', lower_bound)\n",
        "print('Nilai unik:', outliers['review_score'].unique())\n",
        "print('Jumlah outlier:', len(outliers))"
      ],
      "metadata": {
        "id": "dajetiRtyZpu",
        "outputId": "10b700fe-9c4f-4959-cc8b-54248d71a680",
        "colab": {
          "base_uri": "https://localhost:8080/"
        }
      },
      "execution_count": null,
      "outputs": [
        {
          "output_type": "stream",
          "name": "stdout",
          "text": [
            "Nilai batas atas: 6.5\n",
            "Nilai batas bawah: 2.5\n",
            "Nilai unik: [1 2]\n",
            "Jumlah outlier: 14952\n"
          ]
        }
      ]
    },
    {
      "cell_type": "markdown",
      "metadata": {
        "id": "I8jx2Y0s0fSk"
      },
      "source": [
        "**For Bussines Question 2**"
      ]
    },
    {
      "cell_type": "code",
      "execution_count": null,
      "metadata": {
        "colab": {
          "base_uri": "https://localhost:8080/"
        },
        "id": "rmv6xdh71PNh",
        "outputId": "dd88fc16-bc71-4dce-c3e0-2ee608325cec"
      },
      "outputs": [
        {
          "output_type": "stream",
          "name": "stdout",
          "text": [
            "Jumlah duplikasi:  106283\n"
          ]
        }
      ],
      "source": [
        "#Check data duplicate\n",
        "print(\"Jumlah duplikasi: \", merged_sellers_df.duplicated().sum())"
      ]
    },
    {
      "cell_type": "code",
      "execution_count": null,
      "metadata": {
        "id": "pZUsORs85FIM"
      },
      "outputs": [],
      "source": [
        "#Remove data duplicate\n",
        "merged_sellers_df.drop_duplicates(inplace=True)"
      ]
    },
    {
      "cell_type": "code",
      "execution_count": null,
      "metadata": {
        "colab": {
          "base_uri": "https://localhost:8080/"
        },
        "id": "RlWSuj5e4oRS",
        "outputId": "a9e32bcb-53b3-4884-cac5-740250f2eff8"
      },
      "outputs": [
        {
          "output_type": "stream",
          "name": "stdout",
          "text": [
            "Jumlah duplikasi:  0\n"
          ]
        }
      ],
      "source": [
        "#Check data duplicate\n",
        "print(\"Jumlah duplikasi: \", merged_sellers_df.duplicated().sum())"
      ]
    },
    {
      "cell_type": "markdown",
      "metadata": {
        "id": "u_yXt0rUTjQW"
      },
      "source": [
        "##Exploratory Data Analyst"
      ]
    },
    {
      "cell_type": "markdown",
      "metadata": {
        "id": "Bq96_K5wVEJK"
      },
      "source": [
        "**For Bussines Questin 1**"
      ]
    },
    {
      "cell_type": "code",
      "execution_count": null,
      "metadata": {
        "id": "Chj0GNRBTqSu",
        "colab": {
          "base_uri": "https://localhost:8080/"
        },
        "outputId": "14204cf6-fb33-4fd9-b836-a1ed68934031"
      },
      "outputs": [
        {
          "output_type": "stream",
          "name": "stdout",
          "text": [
            "                            product_category_name  total_orders  return_count  \\\n",
            "67                             seguros_e_servicos             2           1.0   \n",
            "60                                       pc_gamer             8           3.0   \n",
            "65  portateis_cozinha_e_preparadores_de_alimentos            14           4.0   \n",
            "38                        fashion_roupa_masculina           122          34.0   \n",
            "55                              moveis_escritorio          1296         304.0   \n",
            "..                                            ...           ...           ...   \n",
            "48                         livros_interesse_geral           526          46.0   \n",
            "22             construcao_ferramentas_ferramentas            94           8.0   \n",
            "41                                         flores            28           2.0   \n",
            "2                               alimentos_bebidas           234          13.0   \n",
            "17                              cds_dvds_musicais            12           0.0   \n",
            "\n",
            "    return_rate  \n",
            "67     0.500000  \n",
            "60     0.375000  \n",
            "65     0.285714  \n",
            "38     0.278689  \n",
            "55     0.234568  \n",
            "..          ...  \n",
            "48     0.087452  \n",
            "22     0.085106  \n",
            "41     0.071429  \n",
            "2      0.055556  \n",
            "17     0.000000  \n",
            "\n",
            "[73 rows x 4 columns]\n"
          ]
        }
      ],
      "source": [
        "# Define returns as reviews with scores 1 or 2\n",
        "returns_df = data_with_reviews_df[data_with_reviews_df['review_score'] <= 2]\n",
        "\n",
        "# Group by product category and calculate total orders and return orders\n",
        "category_returns = returns_df.groupby('product_category_name').size().reset_index(name='return_count')\n",
        "category_total_orders = data_with_reviews_df.groupby('product_category_name').size().reset_index(name='total_orders')\n",
        "\n",
        "# Merge the return counts with total orders\n",
        "category_return_rates = pd.merge(category_total_orders, category_returns, on='product_category_name', how='left')\n",
        "category_return_rates['return_count'].fillna(0, inplace=True)  # Handle categories with no returns\n",
        "\n",
        "# Calculate the return rate\n",
        "category_return_rates['return_rate'] = category_return_rates['return_count'] / category_return_rates['total_orders']\n",
        "\n",
        "# Sort categories by return rate in descending order\n",
        "category_return_rates = category_return_rates.sort_values(by='return_rate', ascending=False)\n",
        "\n",
        "# Display the product categories with the highest return rates\n",
        "print(category_return_rates)"
      ]
    },
    {
      "cell_type": "markdown",
      "source": [
        "**Insight**\n",
        "- The products that have the highest return rates are seguros_e_servicos, pc_gamer and portateis_cozinha_e_preparadores_de_alimentos with respective return rates of (0.5, 0.37 and 0.28). The product moveis_escritorio seems to sell a lot and has many reviews, but the return rate value is relatively small."
      ],
      "metadata": {
        "id": "Og2Dw-iJ_gA4"
      }
    },
    {
      "cell_type": "markdown",
      "source": [
        "**For Bussines Question 2**\n"
      ],
      "metadata": {
        "id": "qNS-sikQBRMS"
      }
    },
    {
      "cell_type": "code",
      "source": [
        "# Calculate sales volume (number of order_item_id) for each city (seller_city)\n",
        "sales_volume_per_city = merged_sellers_df.groupby('seller_city').agg({'order_item_id': 'count'}).reset_index()\n",
        "\n",
        "# Rename the column to make it more informative\n",
        "sales_volume_per_city.rename(columns={'order_item_id': 'sales_volume'}, inplace=True)\n",
        "\n",
        "# Sort by the highest sales volume\n",
        "top_cities = sales_volume_per_city.sort_values(by='sales_volume', ascending=False)\n",
        "\n",
        "# Display the results\n",
        "print(top_cities)  # Display the top 10 cities with the highest sales volume"
      ],
      "metadata": {
        "colab": {
          "base_uri": "https://localhost:8080/"
        },
        "id": "Xyx7osyFveoT",
        "outputId": "e5851eb9-7e76-463f-cd68-6884dd35f1ad"
      },
      "execution_count": null,
      "outputs": [
        {
          "output_type": "stream",
          "name": "stdout",
          "text": [
            "        seller_city  sales_volume\n",
            "517       sao paulo          1498\n",
            "159        curitiba           236\n",
            "450  rio de janeiro           186\n",
            "227        ibitinga           147\n",
            "220       guarulhos           139\n",
            "..              ...           ...\n",
            "319     mandirituba             1\n",
            "316          manaus             1\n",
            "311        macatuba             1\n",
            "309        luziania             1\n",
            "610           xaxim             1\n",
            "\n",
            "[611 rows x 2 columns]\n"
          ]
        }
      ]
    },
    {
      "cell_type": "markdown",
      "source": [],
      "metadata": {
        "id": "I7zBJv7yUePQ"
      }
    },
    {
      "cell_type": "markdown",
      "source": [
        "**Insight**\n",
        "- The cities with the highest total sales volumeare Sao Paulo, Curitiba and Rio de Janeiro(1498, 236 and 186)"
      ],
      "metadata": {
        "id": "a5Q_YRkgeLyW"
      }
    },
    {
      "cell_type": "markdown",
      "source": [
        "## Visualization & Explanatory Analysis"
      ],
      "metadata": {
        "id": "LlC54eoP9bn5"
      }
    },
    {
      "cell_type": "markdown",
      "source": [
        "**For Bussines Question 1**"
      ],
      "metadata": {
        "id": "cuZPZFIm9fFZ"
      }
    },
    {
      "cell_type": "markdown",
      "source": [
        "**Total Order Visualization**"
      ],
      "metadata": {
        "id": "2o2BjNldkIvc"
      }
    },
    {
      "cell_type": "code",
      "source": [
        "# Sort data by total orders in descending order and limit to top 10\n",
        "top10_category_return_rates = category_return_rates.sort_values(by='total_orders', ascending=False).head(10)\n",
        "\n",
        "# Create a figure\n",
        "fig, ax1 = plt.subplots(figsize=(10, 6))\n",
        "\n",
        "# Set background style using seaborn\n",
        "sns.set(style=\"whitegrid\")\n",
        "\n",
        "# Plot the total orders as a bar chart\n",
        "sns.barplot(y='product_category_name', x='total_orders', data=top10_category_return_rates, ax=ax1, color='skyblue')\n",
        "\n",
        "# Set labels with black font color\n",
        "ax1.set_ylabel('Product Category', fontsize=12, color='black')\n",
        "ax1.set_xlabel('Total Orders', fontsize=12, color='black')\n",
        "\n",
        "# Title\n",
        "plt.title('Top 10 Product Categories: Total Orders', fontsize=14)\n",
        "\n",
        "# Adjust layout to make space for labels\n",
        "plt.tight_layout()\n",
        "\n",
        "# Display the plot\n",
        "plt.show()\n"
      ],
      "metadata": {
        "colab": {
          "base_uri": "https://localhost:8080/",
          "height": 411
        },
        "id": "t_LmukG2ihDg",
        "outputId": "a7002c6d-6f4d-4b9d-8281-aea5ad3e2524"
      },
      "execution_count": null,
      "outputs": [
        {
          "output_type": "display_data",
          "data": {
            "text/plain": [
              "<Figure size 1000x600 with 1 Axes>"
            ],
            "image/png": "[encoded data removed]"
          },
          "metadata": {}
        }
      ]
    },
    {
      "cell_type": "markdown",
      "source": [
        "**Return Rate Visualization**"
      ],
      "metadata": {
        "id": "VoaZZXKHkBTp"
      }
    },
    {
      "cell_type": "code",
      "source": [
        "# Sort data by return rate in descending order and limit to top 10 for better readability\n",
        "top10_category_return_rates = category_return_rates.sort_values(by='return_rate', ascending=False).head(10)\n",
        "\n",
        "# Create a figure for the bar chart\n",
        "fig, ax = plt.subplots(figsize=(10, 6))\n",
        "\n",
        "# Set background style using seaborn\n",
        "sns.set(style=\"whitegrid\")\n",
        "\n",
        "# Plot the return rate as a bar chart\n",
        "sns.barplot(y='product_category_name', x='return_rate', data=top10_category_return_rates, ax=ax, color='lightblue')\n",
        "\n",
        "# Set labels and title\n",
        "ax.set_xlabel('Return Rate', fontsize=12, color='black')\n",
        "ax.set_ylabel('Product Category', fontsize=12, color='black')\n",
        "plt.title('Top 10 Product Categories by Return Rate', fontsize=14, color='black')\n",
        "\n",
        "# Customize label colors\n",
        "ax.tick_params(axis='x', colors='black')\n",
        "ax.tick_params(axis='y', colors='black')\n",
        "\n",
        "# Adjust layout to make space for labels\n",
        "plt.tight_layout()\n",
        "\n",
        "# Display the plot\n",
        "plt.show()\n",
        "\n",
        "\n"
      ],
      "metadata": {
        "colab": {
          "base_uri": "https://localhost:8080/",
          "height": 410
        },
        "id": "3VNHk83egTht",
        "outputId": "fe08e450-7cfc-45c3-860a-eba8cba244fd"
      },
      "execution_count": null,
      "outputs": [
        {
          "output_type": "display_data",
          "data": {
            "text/plain": [
              "<Figure size 1000x600 with 1 Axes>"
            ],
            "image/png": "[encoded data removed]"
          },
          "metadata": {}
        }
      ]
    },
    {
      "cell_type": "markdown",
      "source": [
        "**Relationship between Total Orders and Return Rate**"
      ],
      "metadata": {
        "id": "RKmDZka7kY_z"
      }
    },
    {
      "cell_type": "code",
      "source": [
        "# Create a figure\n",
        "fig, ax = plt.subplots(figsize=(10, 6))\n",
        "\n",
        "# Set background style using seaborn\n",
        "sns.set(style=\"whitegrid\")\n",
        "\n",
        "# Plot the scatter plot to show the relationship between return rate and total orders\n",
        "sns.scatterplot(x='total_orders', y='return_rate', data=category_return_rates, color='darkblue', s=100, ax=ax)\n",
        "\n",
        "# Set labels with black color\n",
        "ax.set_xlabel('Total Orders', fontsize=12, color='black')\n",
        "ax.set_ylabel('Return Rate', fontsize=12, color='black')\n",
        "\n",
        "# Title\n",
        "plt.title('Relationship between Total Orders and Return Rate', fontsize=14, color='black')\n",
        "\n",
        "# Adjust layout to make space for labels\n",
        "plt.tight_layout()\n",
        "\n",
        "# Display the plot\n",
        "plt.show()\n"
      ],
      "metadata": {
        "colab": {
          "base_uri": "https://localhost:8080/",
          "height": 620
        },
        "id": "ZieUTgoUi-4G",
        "outputId": "fb20afbb-51fd-482f-fd74-aea7e7fcab8d"
      },
      "execution_count": null,
      "outputs": [
        {
          "output_type": "display_data",
          "data": {
            "text/plain": [
              "<Figure size 1000x600 with 1 Axes>"
            ],
            "image/png": "[encoded data removed]"
          },
          "metadata": {}
        }
      ]
    },
    {
      "cell_type": "markdown",
      "source": [
        "**Insight**\n",
        "- This graph does not show a clear trend between total orders and the rate of return. That is, an increase in the number of orders is not always followed by an increase or decrease in the rate of return.\n",
        "-The product return rate seems to vary quite a bit among various order quantities. This suggests that other factors besides the order quantity may have more influence on the return rate.\n",
        "- There is no clear straight line that can connect the data points, which indicates the absence of a strong linear correlation between the two variables."
      ],
      "metadata": {
        "id": "O0ZTswsXsCci"
      }
    },
    {
      "cell_type": "markdown",
      "source": [
        "**For Bussines Question 2**"
      ],
      "metadata": {
        "id": "QqmSwTbEH7_0"
      }
    },
    {
      "cell_type": "code",
      "source": [
        "# Select the top 5 cities with the highest sales volume\n",
        "top_5_cities = top_cities.head(5)\n",
        "\n",
        "# Create a bar plot\n",
        "plt.figure(figsize=(10,6))\n",
        "plt.bar(top_5_cities['seller_city'], top_5_cities['sales_volume'], color='skyblue')\n",
        "\n",
        "# Add labels and title\n",
        "plt.xlabel('City', fontsize=12)\n",
        "plt.ylabel('Sales Volume', fontsize=12)\n",
        "plt.title('Top 5 Cities with the Highest Sales Volume', fontsize=15)\n",
        "\n",
        "# Display the plot\n",
        "plt.show()"
      ],
      "metadata": {
        "colab": {
          "base_uri": "https://localhost:8080/",
          "height": 443
        },
        "id": "Pr2DygU_yEsZ",
        "outputId": "cda334aa-d707-43f5-df60-7f4663a2c148"
      },
      "execution_count": null,
      "outputs": [
        {
          "output_type": "display_data",
          "data": {
            "text/plain": [
              "<Figure size 1000x600 with 1 Axes>"
            ],
            "image/png": "[encoded data removed]"
          },
          "metadata": {}
        }
      ]
    },
    {
      "cell_type": "markdown",
      "source": [
        "##Insight\n",
        "- Sao Paulo clearly dominates in terms of sales volume, indicating high sales activity from the city.\n",
        "Other cities such as Curitiba and Rio de Janeiro are in second and third place, but with much lower sales volumes than Sao Paulo.\n",
        "Cities like Ibitinga and Guarulhos are at the bottom of the top 5 cities with the highest sales volume."
      ],
      "metadata": {
        "id": "zWHLc_qkzwj_"
      }
    },
    {
      "cell_type": "markdown",
      "source": [
        "##**Conclution**"
      ],
      "metadata": {
        "id": "4hYlGmU-R8xC"
      }
    },
    {
      "cell_type": "markdown",
      "source": [
        "**Bussines Question 1**\n",
        "1. The products that have the highest return rates are seguros_e_servicos, pc_gamer and portateis_cozinha_e_preparadores_de_alimentos with respective return rates of (0.5, 0.37 and 0.28). with total orders (2,8 and 14)\n",
        "2. Despite the high return rates for certain products, there's no clear linear relationship between return rate and total orders. This suggests that other factors besides order quantity play a more significant role in product returns.\n",
        "3. The return rate seems to vary greatly among different products, indicating that product characteristics (e.g., quality, complexity, customer satisfaction) are more influential than total order in determining returns.\n",
        "\n",
        "**Bussines Question 2**\n",
        "- In general, the higher the sales volume a city generates, the more likely it is to have many active sellers contributing to total sales. However, the graph also shows that the distribution of sales volume across cities is not always proportional, as evidenced by the significant difference between Sao Paulo and other cities. This shows that there are cities such as Curitiba and Rio de Janeiro that, although large, generate lower sales volumes than expected when compared to Sao Paulo. In addition, cities such as Ibitinga and Guarulhos show significantly lower sales volumes, indicating potential room for growth in these areas.\n"
      ],
      "metadata": {
        "id": "nV8kTxHcfKON"
      }
    }
  ],
  "metadata": {
    "colab": {
      "provenance": []
    },
    "kernelspec": {
      "display_name": "Python 3",
      "name": "python3"
    },
    "language_info": {
      "name": "python"
    }
  },
  "nbformat": 4,
  "nbformat_minor": 0
}